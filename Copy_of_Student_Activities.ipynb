{
  "nbformat": 4,
  "nbformat_minor": 0,
  "metadata": {
    "colab": {
      "provenance": [],
      "include_colab_link": true
    },
    "kernelspec": {
      "name": "python3",
      "display_name": "Python 3"
    },
    "language_info": {
      "name": "python"
    }
  },
  "cells": [
    {
      "cell_type": "markdown",
      "metadata": {
        "id": "view-in-github",
        "colab_type": "text"
      },
      "source": [
        "<a href=\"https://colab.research.google.com/github/Prishcode04/Prisha.js/blob/main/Copy_of_Student_Activities.ipynb\" target=\"_parent\"><img src=\"https://colab.research.google.com/assets/colab-badge.svg\" alt=\"Open In Colab\"/></a>"
      ]
    },
    {
      "cell_type": "markdown",
      "source": [
        "# Student Task-1\n",
        "\n",
        "### **1. Chatbot Simulator**\n",
        "\n",
        "### 🎯 Problem Statement:\n",
        "\n",
        "Build a simple chatbot loop that:\n",
        "\n",
        "- Keeps taking user input until the user types `\"exit\"`.\n",
        "- Responds with a **predefined reply** each time.\n",
        "- Stops when the user wants to quit.\n",
        "\n",
        "\n",
        "# Output\n",
        "\n",
        "```\n",
        "You: Hello\n",
        "Chatbot: I'm just a pretend chatbot 🤖\n",
        "You: How are you?\n",
        "Chatbot: I'm just a pretend chatbot 🤖\n",
        "You: exit\n",
        "```\n"
      ],
      "metadata": {
        "id": "Iw1jJRpqh3yl"
      }
    },
    {
      "cell_type": "code",
      "source": [
        "while True:\n",
        "  user_input=input(\"You:\")\n",
        "\n",
        "  if user_input.lower()==\"exit\":\n",
        "    print(\"Goodbye\")\n",
        "    break\n",
        "\n",
        "  print(\"Chatbot: I'm just a pretend chatbot\")\n",
        "\n",
        "\n",
        "\n",
        "\n",
        "\n",
        "\n"
      ],
      "metadata": {
        "colab": {
          "base_uri": "https://localhost:8080/"
        },
        "id": "-84sZ7g039mp",
        "outputId": "bb532639-1f40-47b2-f6d8-b7a33bf77b11"
      },
      "execution_count": null,
      "outputs": [
        {
          "output_type": "stream",
          "name": "stdout",
          "text": [
            "You:hello\n",
            "Chatbot: I'm just a pretend chatbot\n",
            "You:exit\n",
            "Goodbye\n"
          ]
        }
      ]
    },
    {
      "cell_type": "markdown",
      "source": [
        "# Student Task-2: Summarize Using Gemini\n",
        "\n",
        "You are provided with the following paragraph:\n",
        "\n",
        "---\n",
        "\n",
        "📝 **Input Paragraph:**\n",
        "\n",
        "> Over the past decade, education has experienced a significant shift due to rapid advancements in technology. Online learning platforms like Coursera, edX, and Khan Academy have made high-quality education accessible to millions of students worldwide. Virtual classrooms now allow real-time interaction between teachers and learners, breaking down geographical barriers. Artificial intelligence is further enhancing the learning experience through personalized tutoring, automated grading, and adaptive content delivery based on student performance. This shift has empowered students to learn at their own pace, revisit lectures, and explore diverse topics beyond their curriculum. Mobile apps and gamified learning modules are keeping learners engaged in innovative ways. However, this digital transformation also introduces challenges. Not all students have equal access to stable internet, quality devices, or a quiet learning environment at home. Additionally, the lack of face-to-face interaction may lead to feelings of isolation and reduced motivation. As we embrace the future of education, balancing technology with human support and inclusivity remains critical.\n",
        "\n",
        "---\n",
        "\n",
        "✅ **Your Task:**\n",
        "\n",
        "1. Use **Gemini** to summarize the above paragraph into **exactly 5 bullet points**.\n",
        "2. The bullet points should be **concise**, **clear**, and **informative**.\n",
        "\n",
        "4. You may prompt Gemini like this:\n",
        "\n",
        "   ```\n",
        "   Summarize the following paragraph into 5 bullet points:\n",
        "   <paste paragraph here>\n",
        "   ```\n",
        "\n",
        "---\n"
      ],
      "metadata": {
        "id": "hPcMh7yO9AxC"
      }
    },
    {
      "cell_type": "code",
      "source": [
        "from getpass import getpass\n",
        "gemini_key=getpass(\"enter your key:\")"
      ],
      "metadata": {
        "colab": {
          "base_uri": "https://localhost:8080/"
        },
        "id": "fgnhTkrDBQzG",
        "outputId": "187582af-d32e-430f-d4e6-b0ff3cb62e01"
      },
      "execution_count": null,
      "outputs": [
        {
          "name": "stdout",
          "output_type": "stream",
          "text": [
            "enter your key:··········\n"
          ]
        }
      ]
    },
    {
      "cell_type": "code",
      "source": [
        "from google import genai\n",
        "\n",
        "client = genai.Client(api_key=gemini_key)\n",
        "\n",
        "\n",
        "\n",
        "response = client.models.generate_content(\n",
        "    model=\"gemini-2.5-flash\",\n",
        "    contents=\"\"\"Summarize the following paragraph into 5 bullet points:\n",
        "    Over the past decade, education has experienced a significant shift due to rapid advancements in technology. Online learning platforms like Coursera, edX, and Khan Academy have made high-quality education accessible to millions of students worldwide. Virtual classrooms now allow real-time interaction between teachers and learners, breaking down geographical barriers. Artificial intelligence is further enhancing the learning experience through personalized tutoring, automated grading, and adaptive content delivery based on student performance. This shift has empowered students to learn at their own pace, revisit lectures, and explore diverse topics beyond their curriculum. Mobile apps and gamified learning modules are keeping learners engaged in innovative ways. However, this digital transformation also introduces challenges. Not all students have equal access to stable internet, quality devices, or a quiet learning environment at home. Additionally, the lack of face-to-face interaction may lead to feelings of isolation and reduced motivation. As we embrace the future of education, balancing technology with human support and inclusivity remains critical.\"\"\",\n",
        ")\n",
        "\n",
        "print(response.text)"
      ],
      "metadata": {
        "colab": {
          "base_uri": "https://localhost:8080/"
        },
        "id": "QgugjPm-B4il",
        "outputId": "1b06bad4-f2a7-4775-af67-3704dea667b7"
      },
      "execution_count": null,
      "outputs": [
        {
          "output_type": "stream",
          "name": "stdout",
          "text": [
            "Here's a summary of the paragraph in 5 bullet points:\n",
            "\n",
            "*   Technology has significantly transformed education over the past decade, making high-quality learning more accessible globally.\n",
            "*   Online platforms, virtual classrooms, and AI tools now enable personalized tutoring, real-time interaction, and adaptive content delivery.\n",
            "*   This shift empowers students with flexible learning paces, the ability to revisit content, and engaging learning experiences through apps and gamification.\n",
            "*   However, digital transformation presents challenges, including unequal access to internet, devices, and suitable learning environments.\n",
            "*   There's also a risk of isolation due to reduced face-to-face interaction, highlighting the need to balance technology with human support and inclusivity.\n"
          ]
        }
      ]
    },
    {
      "cell_type": "code",
      "source": [
        "chat_history=[]\n",
        "\n",
        "while True:\n",
        "  user_input=input(\"You:\")\n",
        "  chat_history.append(f\"You: {user_input}\")\n",
        "\n",
        "  prompt=\"\\n\".join(chat_history) + f'Gemini: '\n",
        "\n",
        "  if user_input.lower()==\"exit\":\n",
        "    print(\"Goodbye\")\n",
        "    break\n",
        "\n",
        "  response = client.models.generate_content(\n",
        "    model=\"gemini-2.5-flash\",\n",
        "    contents=prompt\n",
        "  )\n",
        "  reply=f\"Gemini:{response.text}\\n\"\n",
        "  chat_history.append(reply)\n",
        "  print(reply)\n"
      ],
      "metadata": {
        "colab": {
          "base_uri": "https://localhost:8080/"
        },
        "id": "TRtELryCDzJN",
        "outputId": "79a95d1e-6430-4ae9-e8f6-dbad9c219b51"
      },
      "execution_count": null,
      "outputs": [
        {
          "output_type": "stream",
          "name": "stdout",
          "text": [
            "You:7+9\n",
            "Gemini:7+9=16\n",
            "\n",
            "You:add 14 to answer\n",
            "Gemini:16+14=30\n",
            "\n",
            "You:exit\n",
            "Goodbye\n"
          ]
        }
      ]
    },
    {
      "cell_type": "code",
      "source": [],
      "metadata": {
        "id": "bE8S384FK031"
      },
      "execution_count": null,
      "outputs": []
    },
    {
      "cell_type": "markdown",
      "source": [
        "#Student Task -3: Chatbot with Memory & Character Knowledge\n",
        "\n",
        "### 📄 Problem Statement\n",
        "\n",
        "You are building a simple **chatbot using Gemini Flash API** that can:\n",
        "\n",
        "1. **Remember past conversations**\n",
        "2. **Answer questions about a character** based on the data you provide\n",
        "\n",
        "---\n",
        "\n",
        "### 🧪 Tasks to Complete\n",
        "\n",
        "1. Setup the chatbot using the given `Gemini Flash` structure.\n",
        "2. Add memory using the `history` list.\n",
        "3. Feed a **character biodata** into the chatbot’s memory at the start.\n",
        "4. Ask the chatbot **follow-up questions** about the character, like:\n",
        "\n",
        "   * “Where does the character live?”\n",
        "   * “What are her hobbies?”\n",
        "   * “Is she married?”\n",
        "5. The chatbot must **respond based on the character's biodata**.\n",
        "\n",
        "---\n",
        "\n",
        "### 🧍‍♀️ Character Biodata (To feed initially)\n",
        "\n",
        "```plaintext\n",
        "Name: Aanya Verma  \n",
        "Age: 27  \n",
        "City: Bangalore  \n",
        "Profession: Software Engineer  \n",
        "Hobbies: Painting, Trekking, and Cooking  \n",
        "Relationship Status: Single  \n",
        "Favorite Language: Python  \n",
        "```\n",
        "\n",
        "---\n",
        "\n",
        "### 💡 Hints\n",
        "\n",
        "* Add this biodata to the `history` before the loop starts.\n",
        "* Always pass the full conversation (`history`) to the model.\n",
        "* Use `\\n` to join conversation turns clearly.\n",
        "\n",
        "---\n",
        "\n",
        "### 🎯 Sample Questions to Try\n",
        "\n",
        "```\n",
        "- What is Aanya’s profession?\n",
        "- Does she like painting?\n",
        "- Is she in a relationship?\n",
        "- What language does she love?\n",
        "```\n",
        "\n",
        "---\n"
      ],
      "metadata": {
        "id": "5yx0uiiVjv_X"
      }
    },
    {
      "cell_type": "code",
      "source": [
        "history=[]\n",
        "charater_biodata=\"\"\"Name: Aanya Verma\n",
        "Age: 27\n",
        "City: Bangalore\n",
        "Profession: Software Engineer\n",
        "Hobbies: Painting, Trekking, and Cooking\n",
        "Relationship Status: Single\n",
        "Favorite Language: Python\n",
        "\"\"\"\n",
        "history.append(charater_biodata)\n",
        "while True:\n",
        "  user_input=input(\"You:\")\n",
        "  history.append(f\"You: {user_input}\")\n",
        "\n",
        "  prompt=\"\\n\".join(history) + f'Gemini: '\n",
        "\n",
        "  if user_input==\"exit\":\n",
        "    print(\"Goodbye\")\n",
        "    break\n",
        "\n",
        "  response = client.models.generate_content(\n",
        "    model=\"gemini-2.5-flash\",\n",
        "    contents=prompt\n",
        "  )\n",
        "  reply=f\"Gemini:{response.text}\\n\"\n",
        "  history.append(reply)\n",
        "  print(reply)"
      ],
      "metadata": {
        "colab": {
          "base_uri": "https://localhost:8080/",
          "height": 228
        },
        "id": "qG2ycsYOLSIu",
        "outputId": "7fda030e-a8ea-4b0b-8e8c-96862d40af57"
      },
      "execution_count": 3,
      "outputs": [
        {
          "name": "stdout",
          "output_type": "stream",
          "text": [
            "You:What is age of AAnya?\n"
          ]
        },
        {
          "output_type": "error",
          "ename": "NameError",
          "evalue": "name 'client' is not defined",
          "traceback": [
            "\u001b[0;31m---------------------------------------------------------------------------\u001b[0m",
            "\u001b[0;31mNameError\u001b[0m                                 Traceback (most recent call last)",
            "\u001b[0;32m/tmp/ipython-input-3971215059.py\u001b[0m in \u001b[0;36m<cell line: 0>\u001b[0;34m()\u001b[0m\n\u001b[1;32m     19\u001b[0m     \u001b[0;32mbreak\u001b[0m\u001b[0;34m\u001b[0m\u001b[0;34m\u001b[0m\u001b[0m\n\u001b[1;32m     20\u001b[0m \u001b[0;34m\u001b[0m\u001b[0m\n\u001b[0;32m---> 21\u001b[0;31m   response = client.models.generate_content(\n\u001b[0m\u001b[1;32m     22\u001b[0m     \u001b[0mmodel\u001b[0m\u001b[0;34m=\u001b[0m\u001b[0;34m\"gemini-2.5-flash\"\u001b[0m\u001b[0;34m,\u001b[0m\u001b[0;34m\u001b[0m\u001b[0;34m\u001b[0m\u001b[0m\n\u001b[1;32m     23\u001b[0m     \u001b[0mcontents\u001b[0m\u001b[0;34m=\u001b[0m\u001b[0mprompt\u001b[0m\u001b[0;34m\u001b[0m\u001b[0;34m\u001b[0m\u001b[0m\n",
            "\u001b[0;31mNameError\u001b[0m: name 'client' is not defined"
          ]
        }
      ]
    },
    {
      "cell_type": "code",
      "source": [],
      "metadata": {
        "id": "rblmC6gwOBq_"
      },
      "execution_count": 1,
      "outputs": []
    }
  ]
}